{
  "nbformat": 4,
  "nbformat_minor": 0,
  "metadata": {
    "anaconda-cloud": {},
    "kernelspec": {
      "name": "python3",
      "display_name": "Python 3"
    },
    "colab": {
      "name": "Task1.ipynb",
      "provenance": [],
      "collapsed_sections": [],
      "include_colab_link": true
    },
    "accelerator": "GPU",
    "language_info": {
      "name": "python"
    }
  },
  "cells": [
    {
      "cell_type": "markdown",
      "metadata": {
        "id": "view-in-github",
        "colab_type": "text"
      },
      "source": [
        "<a href=\"https://colab.research.google.com/github/SvetlanaEvva/Python_Task01/blob/main/Task1.ipynb\" target=\"_parent\"><img src=\"https://colab.research.google.com/assets/colab-badge.svg\" alt=\"Open In Colab\"/></a>"
      ]
    },
    {
      "cell_type": "code",
      "metadata": {
        "id": "eq4kgL7YcT0m",
        "outputId": "c5208204-61ed-4618-f1bf-3c832554c687"
      },
      "source": [
        "table = 10\n",
        "for i in range(1, table+1):\n",
        "     for j in range(i, i*table+1, i):\n",
        "         print(j, end = '\\t')\n",
        "     print()"
      ],
      "execution_count": null,
      "outputs": [
        {
          "name": "stdout",
          "output_type": "stream",
          "text": [
            "1\t2\t3\t4\t5\t6\t7\t8\t9\t10\t\n",
            "2\t4\t6\t8\t10\t12\t14\t16\t18\t20\t\n",
            "3\t6\t9\t12\t15\t18\t21\t24\t27\t30\t\n",
            "4\t8\t12\t16\t20\t24\t28\t32\t36\t40\t\n",
            "5\t10\t15\t20\t25\t30\t35\t40\t45\t50\t\n",
            "6\t12\t18\t24\t30\t36\t42\t48\t54\t60\t\n",
            "7\t14\t21\t28\t35\t42\t49\t56\t63\t70\t\n",
            "8\t16\t24\t32\t40\t48\t56\t64\t72\t80\t\n",
            "9\t18\t27\t36\t45\t54\t63\t72\t81\t90\t\n",
            "10\t20\t30\t40\t50\t60\t70\t80\t90\t100\t\n"
          ]
        }
      ]
    },
    {
      "cell_type": "code",
      "metadata": {
        "colab": {
          "base_uri": "https://localhost:8080/"
        },
        "id": "YEW2FoYycT0p",
        "outputId": "9e279695-0429-416d-9853-64f68df3ce7f"
      },
      "source": [
        "from random import randint\n",
        "\n",
        "arr = []\n",
        "for i in range(1, 10):\n",
        "    number = randint(0,20)\n",
        "    arr = arr + [number]\n",
        "    \n",
        "print(arr)\n",
        "\n",
        "inp = int(input())\n",
        "while inp != '':\n",
        "    if inp > -1:\n",
        "        print(arr.count(inp))\n",
        "        inp = int(input())\n",
        "    else:\n",
        "        break;"
      ],
      "execution_count": null,
      "outputs": [
        {
          "name": "stdout",
          "output_type": "stream",
          "text": [
            "[16, 16, 20, 10, 0, 13, 8, 19, 13]\n",
            "8\n",
            "1\n",
            "0\n",
            "1\n",
            "13\n",
            "2\n",
            "-1\n"
          ]
        }
      ]
    }
  ]
}